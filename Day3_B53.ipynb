{
 "cells": [
  {
   "cell_type": "code",
   "execution_count": 1,
   "id": "245a43ca",
   "metadata": {},
   "outputs": [],
   "source": [
    "first_name='alladi'\n",
    "last_name='srikanth'"
   ]
  },
  {
   "cell_type": "code",
   "execution_count": 2,
   "id": "abf32a65",
   "metadata": {},
   "outputs": [
    {
     "name": "stdout",
     "output_type": "stream",
     "text": [
      "alladisrikanth\n"
     ]
    }
   ],
   "source": [
    "fullname=f\"{first_name}{last_name}\" # without space\n",
    "print(fullname)     "
   ]
  },
  {
   "cell_type": "code",
   "execution_count": 3,
   "id": "9ffdb6cf",
   "metadata": {},
   "outputs": [
    {
     "name": "stdout",
     "output_type": "stream",
     "text": [
      "alladi srikanth\n"
     ]
    }
   ],
   "source": [
    "fullname=f\"{first_name} {last_name}\" # with space\n",
    "print(fullname)   "
   ]
  },
  {
   "cell_type": "code",
   "execution_count": 4,
   "id": "4b76e01c",
   "metadata": {},
   "outputs": [
    {
     "name": "stdout",
     "output_type": "stream",
     "text": [
      "Hello, alladi srikanth\n"
     ]
    }
   ],
   "source": [
    "#add extra word inform of the fullname\n",
    "print(f\"Hello, {fullname}\")"
   ]
  },
  {
   "cell_type": "code",
   "execution_count": 6,
   "id": "6c4b7047",
   "metadata": {},
   "outputs": [
    {
     "name": "stdout",
     "output_type": "stream",
     "text": [
      "Hello,Alladi Srikanth\n"
     ]
    }
   ],
   "source": [
    "#correcting format for fullname\n",
    "print(f\"Hello,{fullname.title()}\")"
   ]
  },
  {
   "cell_type": "code",
   "execution_count": 7,
   "id": "8510913c",
   "metadata": {},
   "outputs": [
    {
     "name": "stdout",
     "output_type": "stream",
     "text": [
      "pythoncc++javacobaljavascript\n"
     ]
    }
   ],
   "source": [
    "#adding whitespaces in sting\n",
    "print(\"pythoncc++javacobaljavascript\")"
   ]
  },
  {
   "cell_type": "code",
   "execution_count": 8,
   "id": "597e15ee",
   "metadata": {},
   "outputs": [
    {
     "name": "stdout",
     "output_type": "stream",
     "text": [
      "python\n",
      "c\n",
      "c++\n",
      "java\n",
      "cobal\n",
      "javascript\n"
     ]
    }
   ],
   "source": [
    "#printing the technolgies in new line\n",
    "print(\"python\\nc\\nc++\\njava\\ncobal\\njavascript\")"
   ]
  },
  {
   "cell_type": "code",
   "execution_count": 9,
   "id": "9a91862a",
   "metadata": {},
   "outputs": [
    {
     "name": "stdout",
     "output_type": "stream",
     "text": [
      "python\n",
      "\tc\n",
      "\tc++\n",
      "\tjava\n",
      "\tcobal\n",
      "\tjavascript\n"
     ]
    }
   ],
   "source": [
    "#adding space infornt of new line\n",
    "print(\"python\\n\\tc\\n\\tc++\\n\\tjava\\n\\tcobal\\n\\tjavascript\")"
   ]
  },
  {
   "cell_type": "code",
   "execution_count": 10,
   "id": "3b77591e",
   "metadata": {},
   "outputs": [],
   "source": [
    "#removing spaces\n",
    "name='alladi'"
   ]
  },
  {
   "cell_type": "code",
   "execution_count": 11,
   "id": "fec81788",
   "metadata": {},
   "outputs": [],
   "source": [
    "name2= '   alladi'#having left spaces"
   ]
  },
  {
   "cell_type": "markdown",
   "id": "9815f04b",
   "metadata": {},
   "source": []
  },
  {
   "cell_type": "code",
   "execution_count": 12,
   "id": "72c8b600",
   "metadata": {},
   "outputs": [],
   "source": [
    "name3='alladi   '#having right spaces"
   ]
  },
  {
   "cell_type": "code",
   "execution_count": 18,
   "id": "b866145e",
   "metadata": {},
   "outputs": [],
   "source": [
    "name4='   alladi   '#having both the sides ( right n left)"
   ]
  },
  {
   "cell_type": "markdown",
   "id": "481e3a73",
   "metadata": {},
   "source": [
    "removing spaces"
   ]
  },
  {
   "cell_type": "code",
   "execution_count": 14,
   "id": "ecb15555",
   "metadata": {},
   "outputs": [],
   "source": [
    "#now removing spaces left right and both sides"
   ]
  },
  {
   "cell_type": "code",
   "execution_count": 15,
   "id": "19f40e2a",
   "metadata": {},
   "outputs": [
    {
     "data": {
      "text/plain": [
       "'alladi'"
      ]
     },
     "execution_count": 15,
     "metadata": {},
     "output_type": "execute_result"
    }
   ],
   "source": [
    "name2.lstrip()#removed left spaces"
   ]
  },
  {
   "cell_type": "code",
   "execution_count": 16,
   "id": "34633bc0",
   "metadata": {},
   "outputs": [
    {
     "data": {
      "text/plain": [
       "'alladi'"
      ]
     },
     "execution_count": 16,
     "metadata": {},
     "output_type": "execute_result"
    }
   ],
   "source": [
    "name3.rstrip()#removed right spaces"
   ]
  },
  {
   "cell_type": "code",
   "execution_count": 17,
   "id": "8900ac32",
   "metadata": {},
   "outputs": [
    {
     "data": {
      "text/plain": [
       "'alladi'"
      ]
     },
     "execution_count": 17,
     "metadata": {},
     "output_type": "execute_result"
    }
   ],
   "source": [
    "name4.strip()#removed both left n right spaces"
   ]
  },
  {
   "cell_type": "code",
   "execution_count": null,
   "id": "4a1a3b51",
   "metadata": {},
   "outputs": [],
   "source": []
  }
 ],
 "metadata": {
  "kernelspec": {
   "display_name": "Python 3",
   "language": "python",
   "name": "python3"
  },
  "language_info": {
   "codemirror_mode": {
    "name": "ipython",
    "version": 3
   },
   "file_extension": ".py",
   "mimetype": "text/x-python",
   "name": "python",
   "nbconvert_exporter": "python",
   "pygments_lexer": "ipython3",
   "version": "3.8.8"
  }
 },
 "nbformat": 4,
 "nbformat_minor": 5
}
