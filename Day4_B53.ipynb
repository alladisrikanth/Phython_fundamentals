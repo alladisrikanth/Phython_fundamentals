{
 "cells": [
  {
   "cell_type": "code",
   "execution_count": 1,
   "id": "d38826c2",
   "metadata": {},
   "outputs": [],
   "source": [
    "students=['ravi','naveen','joseph','nisar','vanshika','hude','neha']"
   ]
  },
  {
   "cell_type": "code",
   "execution_count": 2,
   "id": "cdfbb8fc",
   "metadata": {},
   "outputs": [
    {
     "name": "stdout",
     "output_type": "stream",
     "text": [
      "['ravi', 'naveen', 'joseph', 'nisar', 'vanshika', 'hude', 'neha']\n"
     ]
    }
   ],
   "source": [
    "print(students)"
   ]
  },
  {
   "cell_type": "code",
   "execution_count": 3,
   "id": "de5ec4fb",
   "metadata": {},
   "outputs": [
    {
     "data": {
      "text/plain": [
       "list"
      ]
     },
     "execution_count": 3,
     "metadata": {},
     "output_type": "execute_result"
    }
   ],
   "source": [
    "type(students)"
   ]
  },
  {
   "cell_type": "code",
   "execution_count": 4,
   "id": "c40fa981",
   "metadata": {},
   "outputs": [
    {
     "ename": "NameError",
     "evalue": "name 'student' is not defined",
     "output_type": "error",
     "traceback": [
      "\u001b[1;31m---------------------------------------------------------------------------\u001b[0m",
      "\u001b[1;31mNameError\u001b[0m                                 Traceback (most recent call last)",
      "\u001b[1;32m<ipython-input-4-422a308c73a2>\u001b[0m in \u001b[0;36m<module>\u001b[1;34m\u001b[0m\n\u001b[1;32m----> 1\u001b[1;33m \u001b[0mprint\u001b[0m\u001b[1;33m(\u001b[0m\u001b[0mstudent\u001b[0m\u001b[1;33m[\u001b[0m\u001b[1;36m1\u001b[0m\u001b[1;33m]\u001b[0m\u001b[1;33m)\u001b[0m\u001b[1;33m\u001b[0m\u001b[1;33m\u001b[0m\u001b[0m\n\u001b[0m",
      "\u001b[1;31mNameError\u001b[0m: name 'student' is not defined"
     ]
    }
   ],
   "source": [
    "print(student[1])"
   ]
  },
  {
   "cell_type": "code",
   "execution_count": 5,
   "id": "d651f320",
   "metadata": {},
   "outputs": [
    {
     "name": "stdout",
     "output_type": "stream",
     "text": [
      "naveen\n"
     ]
    }
   ],
   "source": [
    "print(students[1]) # to print navenn name"
   ]
  },
  {
   "cell_type": "code",
   "execution_count": 6,
   "id": "8e3ace79",
   "metadata": {},
   "outputs": [
    {
     "name": "stdout",
     "output_type": "stream",
     "text": [
      "ravi\n"
     ]
    }
   ],
   "source": [
    "print(students[0]) # to print ravi name"
   ]
  },
  {
   "cell_type": "code",
   "execution_count": 7,
   "id": "eaa8b638",
   "metadata": {},
   "outputs": [],
   "source": [
    "students.append('vivek') # need to add vivek name in list"
   ]
  },
  {
   "cell_type": "code",
   "execution_count": 8,
   "id": "04d654b2",
   "metadata": {},
   "outputs": [
    {
     "name": "stdout",
     "output_type": "stream",
     "text": [
      "['ravi', 'naveen', 'joseph', 'nisar', 'vanshika', 'hude', 'neha', 'vivek']\n"
     ]
    }
   ],
   "source": [
    "print(students)"
   ]
  },
  {
   "cell_type": "code",
   "execution_count": 9,
   "id": "15c4fbe9",
   "metadata": {},
   "outputs": [],
   "source": [
    "# it will add at last in the list"
   ]
  },
  {
   "cell_type": "code",
   "execution_count": 10,
   "id": "1d96c3c0",
   "metadata": {},
   "outputs": [],
   "source": [
    "students.append('karthik') # add karthik name"
   ]
  },
  {
   "cell_type": "code",
   "execution_count": 11,
   "id": "7079d550",
   "metadata": {},
   "outputs": [
    {
     "name": "stdout",
     "output_type": "stream",
     "text": [
      "['ravi', 'naveen', 'joseph', 'nisar', 'vanshika', 'hude', 'neha', 'vivek', 'karthik']\n"
     ]
    }
   ],
   "source": [
    "print(students)"
   ]
  },
  {
   "cell_type": "code",
   "execution_count": 12,
   "id": "ded5474d",
   "metadata": {},
   "outputs": [],
   "source": [
    "# need to add aarif in 2nd position in list"
   ]
  },
  {
   "cell_type": "code",
   "execution_count": 13,
   "id": "8aa664b8",
   "metadata": {},
   "outputs": [],
   "source": [
    "students.insert(2,'aarif')"
   ]
  },
  {
   "cell_type": "code",
   "execution_count": 14,
   "id": "aa3c9b85",
   "metadata": {},
   "outputs": [
    {
     "name": "stdout",
     "output_type": "stream",
     "text": [
      "['ravi', 'naveen', 'aarif', 'joseph', 'nisar', 'vanshika', 'hude', 'neha', 'vivek', 'karthik']\n"
     ]
    }
   ],
   "source": [
    "print(students)"
   ]
  },
  {
   "cell_type": "code",
   "execution_count": null,
   "id": "95835824",
   "metadata": {},
   "outputs": [],
   "source": [
    "# modify the name \"naveen\" to \"kumar\""
   ]
  },
  {
   "cell_type": "code",
   "execution_count": 15,
   "id": "79491344",
   "metadata": {},
   "outputs": [],
   "source": [
    "students[1]='kumar'"
   ]
  },
  {
   "cell_type": "code",
   "execution_count": 16,
   "id": "0218481e",
   "metadata": {},
   "outputs": [
    {
     "name": "stdout",
     "output_type": "stream",
     "text": [
      "['ravi', 'kumar', 'aarif', 'joseph', 'nisar', 'vanshika', 'hude', 'neha', 'vivek', 'karthik']\n"
     ]
    }
   ],
   "source": [
    "print(students)"
   ]
  },
  {
   "cell_type": "code",
   "execution_count": 17,
   "id": "6f985767",
   "metadata": {},
   "outputs": [],
   "source": [
    "# need to delete joseph name from lsit"
   ]
  },
  {
   "cell_type": "code",
   "execution_count": 21,
   "id": "e49f7c98",
   "metadata": {},
   "outputs": [],
   "source": [
    "del students[3]"
   ]
  },
  {
   "cell_type": "code",
   "execution_count": 22,
   "id": "fea84a95",
   "metadata": {},
   "outputs": [
    {
     "name": "stdout",
     "output_type": "stream",
     "text": [
      "['ravi', 'kumar', 'aarif', 'nisar', 'vanshika', 'hude', 'neha', 'vivek', 'karthik']\n"
     ]
    }
   ],
   "source": [
    "print(students)"
   ]
  },
  {
   "cell_type": "code",
   "execution_count": 23,
   "id": "6128da58",
   "metadata": {},
   "outputs": [],
   "source": [
    "# temporory delte the elements from list, by using \" pop \" command"
   ]
  },
  {
   "cell_type": "code",
   "execution_count": 24,
   "id": "e6617ae0",
   "metadata": {},
   "outputs": [],
   "source": [
    "x=students.pop() # by using this we can delete the last element from the list"
   ]
  },
  {
   "cell_type": "code",
   "execution_count": 25,
   "id": "6a9ba185",
   "metadata": {},
   "outputs": [
    {
     "name": "stdout",
     "output_type": "stream",
     "text": [
      "['ravi', 'kumar', 'aarif', 'nisar', 'vanshika', 'hude', 'neha', 'vivek']\n"
     ]
    }
   ],
   "source": [
    "print(students)"
   ]
  },
  {
   "cell_type": "code",
   "execution_count": null,
   "id": "7548b145",
   "metadata": {},
   "outputs": [],
   "source": [
    "# want to delete particluar name from lsit ( kumar )"
   ]
  },
  {
   "cell_type": "code",
   "execution_count": 26,
   "id": "36af61d7",
   "metadata": {},
   "outputs": [],
   "source": [
    "a=students.pop(1)"
   ]
  },
  {
   "cell_type": "code",
   "execution_count": 27,
   "id": "e5202c24",
   "metadata": {},
   "outputs": [
    {
     "name": "stdout",
     "output_type": "stream",
     "text": [
      "['ravi', 'aarif', 'nisar', 'vanshika', 'hude', 'neha', 'vivek']\n"
     ]
    }
   ],
   "source": [
    "print(students)"
   ]
  },
  {
   "cell_type": "code",
   "execution_count": 28,
   "id": "3b90e85a",
   "metadata": {},
   "outputs": [
    {
     "name": "stdout",
     "output_type": "stream",
     "text": [
      "kumar\n"
     ]
    }
   ],
   "source": [
    "print(a)"
   ]
  },
  {
   "cell_type": "code",
   "execution_count": null,
   "id": "ffbcabd2",
   "metadata": {},
   "outputs": [],
   "source": []
  }
 ],
 "metadata": {
  "kernelspec": {
   "display_name": "Python 3",
   "language": "python",
   "name": "python3"
  },
  "language_info": {
   "codemirror_mode": {
    "name": "ipython",
    "version": 3
   },
   "file_extension": ".py",
   "mimetype": "text/x-python",
   "name": "python",
   "nbconvert_exporter": "python",
   "pygments_lexer": "ipython3",
   "version": "3.8.8"
  }
 },
 "nbformat": 4,
 "nbformat_minor": 5
}
