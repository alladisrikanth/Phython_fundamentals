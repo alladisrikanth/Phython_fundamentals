{
 "cells": [
  {
   "cell_type": "code",
   "execution_count": 3,
   "id": "333228a4",
   "metadata": {},
   "outputs": [],
   "source": [
    "students=['ramohan','praveen','karthik','naveed','divya','tabassum']"
   ]
  },
  {
   "cell_type": "code",
   "execution_count": 4,
   "id": "1b475cac",
   "metadata": {},
   "outputs": [
    {
     "name": "stdout",
     "output_type": "stream",
     "text": [
      "['ramohan', 'praveen', 'karthik', 'naveed', 'divya', 'tabassum']\n"
     ]
    }
   ],
   "source": [
    "print(students)"
   ]
  },
  {
   "cell_type": "code",
   "execution_count": 6,
   "id": "c1035198",
   "metadata": {},
   "outputs": [
    {
     "name": "stdout",
     "output_type": "stream",
     "text": [
      "keep up good work,praveen\n"
     ]
    }
   ],
   "source": [
    "print(f\"keep up good work,{students[1]}\")"
   ]
  },
  {
   "cell_type": "code",
   "execution_count": 7,
   "id": "4e9d80c8",
   "metadata": {},
   "outputs": [
    {
     "name": "stdout",
     "output_type": "stream",
     "text": [
      "keep up good work,ramohan\n"
     ]
    }
   ],
   "source": [
    "print(f\"keep up good work,{students[0]}\")"
   ]
  },
  {
   "cell_type": "code",
   "execution_count": 8,
   "id": "f396e7e3",
   "metadata": {},
   "outputs": [
    {
     "name": "stdout",
     "output_type": "stream",
     "text": [
      "keep up good work,Praveen\n"
     ]
    }
   ],
   "source": [
    "print(f\"keep up good work,{students[1].title()}\")"
   ]
  },
  {
   "cell_type": "code",
   "execution_count": null,
   "id": "7212cef6",
   "metadata": {},
   "outputs": [],
   "source": []
  },
  {
   "cell_type": "code",
   "execution_count": 9,
   "id": "b66a52f3",
   "metadata": {},
   "outputs": [],
   "source": [
    "#Loop Statement"
   ]
  },
  {
   "cell_type": "code",
   "execution_count": 19,
   "id": "ae8e9c43",
   "metadata": {},
   "outputs": [
    {
     "ename": "IndentationError",
     "evalue": "expected an indented block (<ipython-input-19-29bac923ab01>, line 2)",
     "output_type": "error",
     "traceback": [
      "\u001b[1;36m  File \u001b[1;32m\"<ipython-input-19-29bac923ab01>\"\u001b[1;36m, line \u001b[1;32m2\u001b[0m\n\u001b[1;33m    print(f\"keep up good work, {x}\")\u001b[0m\n\u001b[1;37m    ^\u001b[0m\n\u001b[1;31mIndentationError\u001b[0m\u001b[1;31m:\u001b[0m expected an indented block\n"
     ]
    }
   ],
   "source": [
    "for x in students:\n",
    "print(f\"keep up good work, {x}\")"
   ]
  },
  {
   "cell_type": "code",
   "execution_count": 20,
   "id": "2e7040fa",
   "metadata": {},
   "outputs": [
    {
     "name": "stdout",
     "output_type": "stream",
     "text": [
      "keep up good work, ramohan\n",
      "keep up good work, praveen\n",
      "keep up good work, karthik\n",
      "keep up good work, naveed\n",
      "keep up good work, divya\n",
      "keep up good work, tabassum\n"
     ]
    }
   ],
   "source": [
    "for x in students:\n",
    "    print(f\"keep up good work, {x}\")"
   ]
  },
  {
   "cell_type": "code",
   "execution_count": null,
   "id": "1b49f38a",
   "metadata": {},
   "outputs": [],
   "source": []
  },
  {
   "cell_type": "code",
   "execution_count": 22,
   "id": "b56eb1d7",
   "metadata": {},
   "outputs": [
    {
     "name": "stdout",
     "output_type": "stream",
     "text": [
      " keep up good work,ramohan\n",
      " i am looking to receive your practise file of today,ramohan\n",
      " keep up good work,praveen\n",
      " i am looking to receive your practise file of today,praveen\n",
      " keep up good work,karthik\n",
      " i am looking to receive your practise file of today,karthik\n",
      " keep up good work,naveed\n",
      " i am looking to receive your practise file of today,naveed\n",
      " keep up good work,divya\n",
      " i am looking to receive your practise file of today,divya\n",
      " keep up good work,tabassum\n",
      " i am looking to receive your practise file of today,tabassum\n"
     ]
    }
   ],
   "source": [
    "for x in students:\n",
    "    print(f\" keep up good work,{x}\")\n",
    "    print(f\" i am looking to receive your practise file of today,{x}\")"
   ]
  },
  {
   "cell_type": "code",
   "execution_count": 23,
   "id": "89874324",
   "metadata": {},
   "outputs": [
    {
     "name": "stdout",
     "output_type": "stream",
     "text": [
      " keep up good work,ramohan\n",
      " i am looking to receive your practise file of today,ramohan\n",
      "\n",
      " keep up good work,praveen\n",
      " i am looking to receive your practise file of today,praveen\n",
      "\n",
      " keep up good work,karthik\n",
      " i am looking to receive your practise file of today,karthik\n",
      "\n",
      " keep up good work,naveed\n",
      " i am looking to receive your practise file of today,naveed\n",
      "\n",
      " keep up good work,divya\n",
      " i am looking to receive your practise file of today,divya\n",
      "\n",
      " keep up good work,tabassum\n",
      " i am looking to receive your practise file of today,tabassum\n",
      "\n"
     ]
    }
   ],
   "source": [
    "for x in students:\n",
    "    print(f\" keep up good work,{x}\")\n",
    "    print(f\" i am looking to receive your practise file of today,{x}\\n\")"
   ]
  },
  {
   "cell_type": "code",
   "execution_count": 25,
   "id": "76763e1c",
   "metadata": {},
   "outputs": [
    {
     "name": "stdout",
     "output_type": "stream",
     "text": [
      " keep up good work,ramohan\n",
      " i am looking to receive your practise file of today,ramohan\n",
      "\n",
      " keep up good work,praveen\n",
      " i am looking to receive your practise file of today,praveen\n",
      "\n",
      " keep up good work,karthik\n",
      " i am looking to receive your practise file of today,karthik\n",
      "\n",
      " keep up good work,naveed\n",
      " i am looking to receive your practise file of today,naveed\n",
      "\n",
      " keep up good work,divya\n",
      " i am looking to receive your practise file of today,divya\n",
      "\n",
      " keep up good work,tabassum\n",
      " i am looking to receive your practise file of today,tabassum\n",
      "\n",
      "Thank you all for joining in the session today\n"
     ]
    }
   ],
   "source": [
    "for x in students:\n",
    "    print(f\" keep up good work,{x}\")\n",
    "    print(f\" i am looking to receive your practise file of today,{x}\\n\")\n",
    "print(\"Thank you all for joining in the session today\")"
   ]
  },
  {
   "cell_type": "code",
   "execution_count": null,
   "id": "cb02137e",
   "metadata": {},
   "outputs": [],
   "source": []
  },
  {
   "cell_type": "code",
   "execution_count": null,
   "id": "d993bd54",
   "metadata": {},
   "outputs": [],
   "source": []
  }
 ],
 "metadata": {
  "kernelspec": {
   "display_name": "Python 3",
   "language": "python",
   "name": "python3"
  },
  "language_info": {
   "codemirror_mode": {
    "name": "ipython",
    "version": 3
   },
   "file_extension": ".py",
   "mimetype": "text/x-python",
   "name": "python",
   "nbconvert_exporter": "python",
   "pygments_lexer": "ipython3",
   "version": "3.8.8"
  }
 },
 "nbformat": 4,
 "nbformat_minor": 5
}
